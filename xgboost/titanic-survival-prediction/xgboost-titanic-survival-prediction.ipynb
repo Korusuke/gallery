{
 "cells": [
  {
   "cell_type": "markdown",
   "metadata": {},
   "source": [
    "# BentoML Demo: Titanic Survival Prediction with XGBoost\n",
    "\n",
    "\n",
    "[BentoML](http://bentoml.ai) is an open-source framework for high-performance ML model serving.\n",
    "\n",
    "This notebook demonstrates use BentoML to serve a model trained with the XGBoost framework, specifically using the Titanic Survival dataset.\n",
    "\n",
    "\n",
    "Let's get started!\n",
    "![Impression](https://www.google-analytics.com/collect?v=1&tid=UA-112879361-3&cid=555&t=event&ec=xgboost&ea=xgboost-tiantic-survival-prediction&dt=xgboost-tiantic-survival-prediction)"
   ]
  },
  {
   "cell_type": "code",
   "execution_count": 1,
   "metadata": {},
   "outputs": [],
   "source": [
    "%reload_ext autoreload\n",
    "%autoreload 2\n",
    "%matplotlib inline\n",
    "\n",
    "import warnings\n",
    "warnings.filterwarnings(\"ignore\")"
   ]
  },
  {
   "cell_type": "code",
   "execution_count": 2,
   "metadata": {},
   "outputs": [],
   "source": [
    "!pip install -q --upgrade xgboost==0.90 numpy==1.18.5 pandas==1.0.4 bentoml"
   ]
  },
  {
   "cell_type": "code",
   "execution_count": 3,
   "metadata": {},
   "outputs": [],
   "source": [
    "import pandas as pd\n",
    "import numpy as np\n",
    "import xgboost as xgb\n",
    "import bentoml"
   ]
  },
  {
   "cell_type": "markdown",
   "metadata": {},
   "source": [
    "# Prepare Dataset\n",
    "download dataset from https://www.kaggle.com/c/titanic/data"
   ]
  },
  {
   "cell_type": "code",
   "execution_count": 4,
   "metadata": {},
   "outputs": [
    {
     "name": "stdout",
     "output_type": "stream",
     "text": [
      "mkdir: data: File exists\n",
      "  % Total    % Received % Xferd  Average Speed   Time    Time     Time  Current\n",
      "                                 Dload  Upload   Total   Spent    Left  Speed\n",
      "100 60302  100 60302    0     0   180k      0 --:--:-- --:--:-- --:--:--  180k\n",
      "  % Total    % Received % Xferd  Average Speed   Time    Time     Time  Current\n",
      "                                 Dload  Upload   Total   Spent    Left  Speed\n",
      "100 28210  100 28210    0     0  99330      0 --:--:-- --:--:-- --:--:-- 99330\n"
     ]
    }
   ],
   "source": [
    "!mkdir data\n",
    "!curl https://raw.githubusercontent.com/agconti/kaggle-titanic/master/data/train.csv -o ./data/train.csv\n",
    "!curl https://raw.githubusercontent.com/agconti/kaggle-titanic/master/data/test.csv -o ./data/test.csv"
   ]
  },
  {
   "cell_type": "code",
   "execution_count": 5,
   "metadata": {},
   "outputs": [],
   "source": [
    "train = pd.read_csv(\"./data/train.csv\")\n",
    "test  = pd.read_csv(\"./data/test.csv\")\n",
    "X_y_train = xgb.DMatrix(data=train[['Pclass', 'Age', 'Fare', 'SibSp', 'Parch']], label= train['Survived'])\n",
    "X_test    = xgb.DMatrix(data=test[['Pclass', 'Age', 'Fare', 'SibSp', 'Parch']])"
   ]
  },
  {
   "cell_type": "code",
   "execution_count": 6,
   "metadata": {},
   "outputs": [
    {
     "data": {
      "text/html": [
       "<div>\n",
       "<style scoped>\n",
       "    .dataframe tbody tr th:only-of-type {\n",
       "        vertical-align: middle;\n",
       "    }\n",
       "\n",
       "    .dataframe tbody tr th {\n",
       "        vertical-align: top;\n",
       "    }\n",
       "\n",
       "    .dataframe thead th {\n",
       "        text-align: right;\n",
       "    }\n",
       "</style>\n",
       "<table border=\"1\" class=\"dataframe\">\n",
       "  <thead>\n",
       "    <tr style=\"text-align: right;\">\n",
       "      <th></th>\n",
       "      <th>Pclass</th>\n",
       "      <th>Age</th>\n",
       "      <th>Fare</th>\n",
       "      <th>SibSp</th>\n",
       "      <th>Parch</th>\n",
       "      <th>Survived</th>\n",
       "    </tr>\n",
       "  </thead>\n",
       "  <tbody>\n",
       "    <tr>\n",
       "      <th>0</th>\n",
       "      <td>3</td>\n",
       "      <td>22.0</td>\n",
       "      <td>7.2500</td>\n",
       "      <td>1</td>\n",
       "      <td>0</td>\n",
       "      <td>0</td>\n",
       "    </tr>\n",
       "    <tr>\n",
       "      <th>1</th>\n",
       "      <td>1</td>\n",
       "      <td>38.0</td>\n",
       "      <td>71.2833</td>\n",
       "      <td>1</td>\n",
       "      <td>0</td>\n",
       "      <td>1</td>\n",
       "    </tr>\n",
       "    <tr>\n",
       "      <th>2</th>\n",
       "      <td>3</td>\n",
       "      <td>26.0</td>\n",
       "      <td>7.9250</td>\n",
       "      <td>0</td>\n",
       "      <td>0</td>\n",
       "      <td>1</td>\n",
       "    </tr>\n",
       "    <tr>\n",
       "      <th>3</th>\n",
       "      <td>1</td>\n",
       "      <td>35.0</td>\n",
       "      <td>53.1000</td>\n",
       "      <td>1</td>\n",
       "      <td>0</td>\n",
       "      <td>1</td>\n",
       "    </tr>\n",
       "    <tr>\n",
       "      <th>4</th>\n",
       "      <td>3</td>\n",
       "      <td>35.0</td>\n",
       "      <td>8.0500</td>\n",
       "      <td>0</td>\n",
       "      <td>0</td>\n",
       "      <td>0</td>\n",
       "    </tr>\n",
       "  </tbody>\n",
       "</table>\n",
       "</div>"
      ],
      "text/plain": [
       "   Pclass   Age     Fare  SibSp  Parch  Survived\n",
       "0       3  22.0   7.2500      1      0         0\n",
       "1       1  38.0  71.2833      1      0         1\n",
       "2       3  26.0   7.9250      0      0         1\n",
       "3       1  35.0  53.1000      1      0         1\n",
       "4       3  35.0   8.0500      0      0         0"
      ]
     },
     "execution_count": 6,
     "metadata": {},
     "output_type": "execute_result"
    }
   ],
   "source": [
    "train[['Pclass', 'Age', 'Fare', 'SibSp', 'Parch', 'Survived']].head()"
   ]
  },
  {
   "cell_type": "markdown",
   "metadata": {},
   "source": [
    "# Model Training"
   ]
  },
  {
   "cell_type": "code",
   "execution_count": 7,
   "metadata": {},
   "outputs": [
    {
     "name": "stdout",
     "output_type": "stream",
     "text": [
      "[17:27:18] WARNING: src/objective/regression_obj.cu:152: reg:linear is now deprecated in favor of reg:squarederror.\n"
     ]
    }
   ],
   "source": [
    "params = {\n",
    "          'base_score': np.mean(train['Survived']),\n",
    "          'eta':  0.1,\n",
    "          'max_depth': 3,\n",
    "          'gamma' :3,\n",
    "          'objective'   :'reg:linear',\n",
    "          'eval_metric' :'mae'\n",
    "         }\n",
    "model = xgb.train(params=params, \n",
    "                  dtrain=X_y_train, \n",
    "                  num_boost_round=3)"
   ]
  },
  {
   "cell_type": "code",
   "execution_count": 8,
   "metadata": {},
   "outputs": [
    {
     "data": {
      "text/html": [
       "<div>\n",
       "<style scoped>\n",
       "    .dataframe tbody tr th:only-of-type {\n",
       "        vertical-align: middle;\n",
       "    }\n",
       "\n",
       "    .dataframe tbody tr th {\n",
       "        vertical-align: top;\n",
       "    }\n",
       "\n",
       "    .dataframe thead th {\n",
       "        text-align: right;\n",
       "    }\n",
       "</style>\n",
       "<table border=\"1\" class=\"dataframe\">\n",
       "  <thead>\n",
       "    <tr style=\"text-align: right;\">\n",
       "      <th></th>\n",
       "      <th>Pclass</th>\n",
       "      <th>Age</th>\n",
       "      <th>Fare</th>\n",
       "      <th>SibSp</th>\n",
       "      <th>Parch</th>\n",
       "      <th>pred</th>\n",
       "    </tr>\n",
       "  </thead>\n",
       "  <tbody>\n",
       "    <tr>\n",
       "      <th>10</th>\n",
       "      <td>3</td>\n",
       "      <td>NaN</td>\n",
       "      <td>7.8958</td>\n",
       "      <td>0</td>\n",
       "      <td>0</td>\n",
       "      <td>0.341580</td>\n",
       "    </tr>\n",
       "    <tr>\n",
       "      <th>11</th>\n",
       "      <td>1</td>\n",
       "      <td>46.0</td>\n",
       "      <td>26.0000</td>\n",
       "      <td>0</td>\n",
       "      <td>0</td>\n",
       "      <td>0.413966</td>\n",
       "    </tr>\n",
       "  </tbody>\n",
       "</table>\n",
       "</div>"
      ],
      "text/plain": [
       "    Pclass   Age     Fare  SibSp  Parch      pred\n",
       "10       3   NaN   7.8958      0      0  0.341580\n",
       "11       1  46.0  26.0000      0      0  0.413966"
      ]
     },
     "execution_count": 8,
     "metadata": {},
     "output_type": "execute_result"
    }
   ],
   "source": [
    "y_test =  model.predict(X_test)\n",
    "test['pred'] = y_test\n",
    "test[['Pclass', 'Age', 'Fare', 'SibSp', 'Parch','pred']].iloc[10:].head(2)"
   ]
  },
  {
   "cell_type": "markdown",
   "metadata": {},
   "source": [
    "## Create BentoService for model serving"
   ]
  },
  {
   "cell_type": "code",
   "execution_count": 9,
   "metadata": {},
   "outputs": [
    {
     "name": "stdout",
     "output_type": "stream",
     "text": [
      "Overwriting xgboost_titanic_bento_service.py\n"
     ]
    }
   ],
   "source": [
    "%%writefile xgboost_titanic_bento_service.py\n",
    "\n",
    "import xgboost as xgb\n",
    "\n",
    "import bentoml\n",
    "from bentoml.artifact import XgboostModelArtifact\n",
    "from bentoml.adapters import DataframeInput\n",
    "\n",
    "@bentoml.env(auto_pip_dependencies=True)\n",
    "@bentoml.artifacts([XgboostModelArtifact('model')])\n",
    "class TitanicSurvivalPredictionXgBoost(bentoml.BentoService):\n",
    "    \n",
    "    @bentoml.api(input=DataframeInput())\n",
    "    def predict(self, df):\n",
    "        data = xgb.DMatrix(data=df[['Pclass', 'Age', 'Fare', 'SibSp', 'Parch']])\n",
    "        return self.artifacts.model.predict(data)"
   ]
  },
  {
   "cell_type": "markdown",
   "metadata": {},
   "source": [
    "# Create BentoService saved bundle"
   ]
  },
  {
   "cell_type": "code",
   "execution_count": 10,
   "metadata": {},
   "outputs": [
    {
     "name": "stdout",
     "output_type": "stream",
     "text": [
      "[2020-06-16 17:27:43,973] INFO - BentoService bundle 'TitanicSurvivalPredictionXgBoost:20200616172725_4CD6B0' saved to: /Users/chaoyu/bentoml/repository/TitanicSurvivalPredictionXgBoost/20200616172725_4CD6B0\n"
     ]
    }
   ],
   "source": [
    "# 1) import the custom BentoService defined above\n",
    "from xgboost_titanic_bento_service import TitanicSurvivalPredictionXgBoost\n",
    "\n",
    "# 2) `pack` it with required artifacts\n",
    "bento_service = TitanicSurvivalPredictionXgBoost()\n",
    "bento_service.pack('model', model)\n",
    "\n",
    "# 3) save your BentoSerivce\n",
    "saved_path = bento_service.save()"
   ]
  },
  {
   "cell_type": "markdown",
   "metadata": {},
   "source": [
    "## Load BentoService saved bundle\n"
   ]
  },
  {
   "cell_type": "code",
   "execution_count": 11,
   "metadata": {},
   "outputs": [
    {
     "name": "stdout",
     "output_type": "stream",
     "text": [
      "[2020-06-16 17:27:44,282] WARNING - Module `xgboost_titanic_bento_service` already loaded, using existing imported module.\n",
      "[17:27:44] WARNING: src/objective/regression_obj.cu:152: reg:linear is now deprecated in favor of reg:squarederror.\n"
     ]
    },
    {
     "data": {
      "text/html": [
       "<div>\n",
       "<style scoped>\n",
       "    .dataframe tbody tr th:only-of-type {\n",
       "        vertical-align: middle;\n",
       "    }\n",
       "\n",
       "    .dataframe tbody tr th {\n",
       "        vertical-align: top;\n",
       "    }\n",
       "\n",
       "    .dataframe thead th {\n",
       "        text-align: right;\n",
       "    }\n",
       "</style>\n",
       "<table border=\"1\" class=\"dataframe\">\n",
       "  <thead>\n",
       "    <tr style=\"text-align: right;\">\n",
       "      <th></th>\n",
       "      <th>Pclass</th>\n",
       "      <th>Age</th>\n",
       "      <th>Fare</th>\n",
       "      <th>SibSp</th>\n",
       "      <th>Parch</th>\n",
       "      <th>pred</th>\n",
       "    </tr>\n",
       "  </thead>\n",
       "  <tbody>\n",
       "    <tr>\n",
       "      <th>0</th>\n",
       "      <td>3</td>\n",
       "      <td>34.5</td>\n",
       "      <td>7.8292</td>\n",
       "      <td>0</td>\n",
       "      <td>0</td>\n",
       "      <td>0.341580</td>\n",
       "    </tr>\n",
       "    <tr>\n",
       "      <th>1</th>\n",
       "      <td>3</td>\n",
       "      <td>47.0</td>\n",
       "      <td>7.0000</td>\n",
       "      <td>1</td>\n",
       "      <td>0</td>\n",
       "      <td>0.341580</td>\n",
       "    </tr>\n",
       "    <tr>\n",
       "      <th>2</th>\n",
       "      <td>2</td>\n",
       "      <td>62.0</td>\n",
       "      <td>9.6875</td>\n",
       "      <td>0</td>\n",
       "      <td>0</td>\n",
       "      <td>0.371730</td>\n",
       "    </tr>\n",
       "    <tr>\n",
       "      <th>3</th>\n",
       "      <td>3</td>\n",
       "      <td>27.0</td>\n",
       "      <td>8.6625</td>\n",
       "      <td>0</td>\n",
       "      <td>0</td>\n",
       "      <td>0.341580</td>\n",
       "    </tr>\n",
       "    <tr>\n",
       "      <th>4</th>\n",
       "      <td>3</td>\n",
       "      <td>22.0</td>\n",
       "      <td>12.2875</td>\n",
       "      <td>1</td>\n",
       "      <td>1</td>\n",
       "      <td>0.341580</td>\n",
       "    </tr>\n",
       "    <tr>\n",
       "      <th>...</th>\n",
       "      <td>...</td>\n",
       "      <td>...</td>\n",
       "      <td>...</td>\n",
       "      <td>...</td>\n",
       "      <td>...</td>\n",
       "      <td>...</td>\n",
       "    </tr>\n",
       "    <tr>\n",
       "      <th>413</th>\n",
       "      <td>3</td>\n",
       "      <td>NaN</td>\n",
       "      <td>8.0500</td>\n",
       "      <td>0</td>\n",
       "      <td>0</td>\n",
       "      <td>0.341580</td>\n",
       "    </tr>\n",
       "    <tr>\n",
       "      <th>414</th>\n",
       "      <td>1</td>\n",
       "      <td>39.0</td>\n",
       "      <td>108.9000</td>\n",
       "      <td>0</td>\n",
       "      <td>0</td>\n",
       "      <td>0.469721</td>\n",
       "    </tr>\n",
       "    <tr>\n",
       "      <th>415</th>\n",
       "      <td>3</td>\n",
       "      <td>38.5</td>\n",
       "      <td>7.2500</td>\n",
       "      <td>0</td>\n",
       "      <td>0</td>\n",
       "      <td>0.341580</td>\n",
       "    </tr>\n",
       "    <tr>\n",
       "      <th>416</th>\n",
       "      <td>3</td>\n",
       "      <td>NaN</td>\n",
       "      <td>8.0500</td>\n",
       "      <td>0</td>\n",
       "      <td>0</td>\n",
       "      <td>0.341580</td>\n",
       "    </tr>\n",
       "    <tr>\n",
       "      <th>417</th>\n",
       "      <td>3</td>\n",
       "      <td>NaN</td>\n",
       "      <td>22.3583</td>\n",
       "      <td>1</td>\n",
       "      <td>1</td>\n",
       "      <td>0.341580</td>\n",
       "    </tr>\n",
       "  </tbody>\n",
       "</table>\n",
       "<p>418 rows × 6 columns</p>\n",
       "</div>"
      ],
      "text/plain": [
       "     Pclass   Age      Fare  SibSp  Parch      pred\n",
       "0         3  34.5    7.8292      0      0  0.341580\n",
       "1         3  47.0    7.0000      1      0  0.341580\n",
       "2         2  62.0    9.6875      0      0  0.371730\n",
       "3         3  27.0    8.6625      0      0  0.341580\n",
       "4         3  22.0   12.2875      1      1  0.341580\n",
       "..      ...   ...       ...    ...    ...       ...\n",
       "413       3   NaN    8.0500      0      0  0.341580\n",
       "414       1  39.0  108.9000      0      0  0.469721\n",
       "415       3  38.5    7.2500      0      0  0.341580\n",
       "416       3   NaN    8.0500      0      0  0.341580\n",
       "417       3   NaN   22.3583      1      1  0.341580\n",
       "\n",
       "[418 rows x 6 columns]"
      ]
     },
     "execution_count": 11,
     "metadata": {},
     "output_type": "execute_result"
    }
   ],
   "source": [
    "import bentoml\n",
    "\n",
    "loaded_svc = bentoml.load(saved_path)\n",
    "\n",
    "result = loaded_svc.predict(test)\n",
    "test['pred'] = result\n",
    "test[['Pclass', 'Age', 'Fare', 'SibSp', 'Parch','pred']]"
   ]
  },
  {
   "cell_type": "markdown",
   "metadata": {},
   "source": [
    "## Working with BentoML CLI"
   ]
  },
  {
   "cell_type": "markdown",
   "metadata": {},
   "source": [
    "**`bentoml get <BentoServiceName>` is great for list all versions of the BentoService**"
   ]
  },
  {
   "cell_type": "code",
   "execution_count": 12,
   "metadata": {},
   "outputs": [
    {
     "name": "stdout",
     "output_type": "stream",
     "text": [
      "\u001b[39mBENTO_SERVICE                                           AGE                           APIS                                   ARTIFACTS\r\n",
      "TitanicSurvivalPredictionXgBoost:20200616172725_4CD6B0  2.68 seconds                  predict<DataframeInput:DefaultOutput>  model<XgboostModelArtifact>\r\n",
      "TitanicSurvivalPredictionXgBoost:20200616170508_6AF596  22 minutes and 19.01 seconds  predict<DataframeInput:DefaultOutput>  model<XgboostModelArtifact>\r\n",
      "TitanicSurvivalPredictionXgBoost:20200616163101_75E9BA  56 minutes and 26.2 seconds   predict<DataframeInput:DefaultOutput>  model<XgboostModelArtifact>\u001b[0m\r\n"
     ]
    }
   ],
   "source": [
    "!bentoml get TitanicSurvivalPredictionXgBoost"
   ]
  },
  {
   "cell_type": "markdown",
   "metadata": {},
   "source": [
    "**`bentoml get <BentoService name>:<BentoService version>` to access detailed information**"
   ]
  },
  {
   "cell_type": "code",
   "execution_count": 13,
   "metadata": {},
   "outputs": [
    {
     "name": "stdout",
     "output_type": "stream",
     "text": [
      "[2020-06-16 17:27:48,704] INFO - Getting latest version TitanicSurvivalPredictionXgBoost:20200616172725_4CD6B0\r\n",
      "\u001b[39m{\r\n",
      "  \"name\": \"TitanicSurvivalPredictionXgBoost\",\r\n",
      "  \"version\": \"20200616172725_4CD6B0\",\r\n",
      "  \"uri\": {\r\n",
      "    \"type\": \"LOCAL\",\r\n",
      "    \"uri\": \"/Users/chaoyu/bentoml/repository/TitanicSurvivalPredictionXgBoost/20200616172725_4CD6B0\"\r\n",
      "  },\r\n",
      "  \"bentoServiceMetadata\": {\r\n",
      "    \"name\": \"TitanicSurvivalPredictionXgBoost\",\r\n",
      "    \"version\": \"20200616172725_4CD6B0\",\r\n",
      "    \"createdAt\": \"2020-06-17T00:27:43.917769Z\",\r\n",
      "    \"env\": {\r\n",
      "      \"condaEnv\": \"name: bentoml-TitanicSurvivalPredictionXgBoost\\nchannels:\\n- defaults\\ndependencies:\\n- python=3.7.5\\n- pip\\n\",\r\n",
      "      \"pipDependencies\": \"xgboost==0.90\\npandas\\nbentoml==0.8.1\",\r\n",
      "      \"pythonVersion\": \"3.7.5\",\r\n",
      "      \"dockerBaseImage\": \"bentoml/model-server:0.8.1\"\r\n",
      "    },\r\n",
      "    \"artifacts\": [\r\n",
      "      {\r\n",
      "        \"name\": \"model\",\r\n",
      "        \"artifactType\": \"XgboostModelArtifact\"\r\n",
      "      }\r\n",
      "    ],\r\n",
      "    \"apis\": [\r\n",
      "      {\r\n",
      "        \"name\": \"predict\",\r\n",
      "        \"inputType\": \"DataframeInput\",\r\n",
      "        \"docs\": \"BentoService API\",\r\n",
      "        \"inputConfig\": {\r\n",
      "          \"orient\": \"records\",\r\n",
      "          \"typ\": \"frame\",\r\n",
      "          \"is_batch_input\": true,\r\n",
      "          \"input_dtypes\": null\r\n",
      "        },\r\n",
      "        \"outputConfig\": {\r\n",
      "          \"cors\": \"*\"\r\n",
      "        },\r\n",
      "        \"outputType\": \"DefaultOutput\"\r\n",
      "      }\r\n",
      "    ]\r\n",
      "  }\r\n",
      "}\u001b[0m\r\n"
     ]
    }
   ],
   "source": [
    "!bentoml get TitanicSurvivalPredictionXgBoost:latest"
   ]
  },
  {
   "cell_type": "markdown",
   "metadata": {},
   "source": [
    "Run predicition task from CLI:"
   ]
  },
  {
   "cell_type": "code",
   "execution_count": 14,
   "metadata": {},
   "outputs": [
    {
     "name": "stdout",
     "output_type": "stream",
     "text": [
      "[2020-06-16 17:27:50,818] INFO - Getting latest version TitanicSurvivalPredictionXgBoost:20200616172725_4CD6B0\n",
      "[17:27:51] WARNING: src/objective/regression_obj.cu:152: reg:linear is now deprecated in favor of reg:squarederror.\n",
      "[0.46972126]\n"
     ]
    }
   ],
   "source": [
    "!bentoml run TitanicSurvivalPredictionXgBoost:latest predict \\\n",
    "    --input '[{\"Pclass\": 1, \"Age\": 30, \"Fare\": 200, \"SibSp\": 1, \"Parch\": 0}]' "
   ]
  },
  {
   "cell_type": "markdown",
   "metadata": {},
   "source": [
    "## Model Serving via REST API\n",
    "\n",
    "Start local API model server with `bentoml serve` command:"
   ]
  },
  {
   "cell_type": "code",
   "execution_count": 15,
   "metadata": {
    "scrolled": true
   },
   "outputs": [
    {
     "name": "stdout",
     "output_type": "stream",
     "text": [
      "[2020-06-16 17:27:58,816] INFO - Getting latest version TitanicSurvivalPredictionXgBoost:20200616172725_4CD6B0\n",
      "[17:27:59] WARNING: src/objective/regression_obj.cu:152: reg:linear is now deprecated in favor of reg:squarederror.\n",
      " * Serving Flask app \"TitanicSurvivalPredictionXgBoost\" (lazy loading)\n",
      " * Environment: production\n",
      "\u001b[31m   WARNING: This is a development server. Do not use it in a production deployment.\u001b[0m\n",
      "\u001b[2m   Use a production WSGI server instead.\u001b[0m\n",
      " * Debug mode: off\n",
      " * Running on http://127.0.0.1:5000/ (Press CTRL+C to quit)\n",
      "127.0.0.1 - - [16/Jun/2020 17:28:01] \"\u001b[37mGET / HTTP/1.1\u001b[0m\" 200 -\n",
      "127.0.0.1 - - [16/Jun/2020 17:28:01] \"\u001b[37mGET /docs.json HTTP/1.1\u001b[0m\" 200 -\n",
      "127.0.0.1 - - [16/Jun/2020 17:28:14] \"\u001b[37mPOST /predict HTTP/1.1\u001b[0m\" 200 -\n",
      "127.0.0.1 - - [16/Jun/2020 17:28:17] \"\u001b[37mPOST /predict HTTP/1.1\u001b[0m\" 200 -\n",
      "127.0.0.1 - - [16/Jun/2020 17:28:17] \"\u001b[37mPOST /predict HTTP/1.1\u001b[0m\" 200 -\n",
      "127.0.0.1 - - [16/Jun/2020 17:28:17] \"\u001b[37mPOST /predict HTTP/1.1\u001b[0m\" 200 -\n",
      "127.0.0.1 - - [16/Jun/2020 17:28:17] \"\u001b[37mPOST /predict HTTP/1.1\u001b[0m\" 200 -\n",
      "^C\n"
     ]
    }
   ],
   "source": [
    "!bentoml serve TitanicSurvivalPredictionXgBoost:latest"
   ]
  },
  {
   "cell_type": "markdown",
   "metadata": {},
   "source": [
    "Copy following `curl` command to make a curl request to REST API server from another terminal window:\n",
    "\n",
    "```bash\n",
    "curl -i \\\n",
    "--header \"Content-Type: application/json\" \\\n",
    "--request POST \\\n",
    "--data '[{\"Pclass\": 1, \"Age\": 30, \"Fare\": 200, \"SibSp\": 1, \"Parch\": 0}]' \\\n",
    "localhost:5000/predict\n",
    "```"
   ]
  },
  {
   "cell_type": "markdown",
   "metadata": {},
   "source": [
    "# Containerize REST API server with Docker\n",
    "\n",
    "\n",
    "The BentoService saved bundle direcotry is structured as a docker build context, which can be used directly to build a docker image for the model server:"
   ]
  },
  {
   "cell_type": "code",
   "execution_count": 16,
   "metadata": {
    "scrolled": false
   },
   "outputs": [
    {
     "name": "stdout",
     "output_type": "stream",
     "text": [
      "sha256:986cbfc72fbca0645a54267df982f4970df5fb408d388fd9f2c7502084d7a686\r\n"
     ]
    }
   ],
   "source": [
    "!cd {saved_path} && docker build --quiet -t titanic-survival-predict-server ."
   ]
  },
  {
   "cell_type": "markdown",
   "metadata": {},
   "source": [
    "Next, you can docker push the image to your choice of registry for deployment, or run it locally for development and testing:"
   ]
  },
  {
   "cell_type": "code",
   "execution_count": 17,
   "metadata": {},
   "outputs": [
    {
     "name": "stdout",
     "output_type": "stream",
     "text": [
      "[2020-06-17 00:29:53,084] INFO - get_gunicorn_num_of_workers: 3, calculated by cpu count\n",
      "[2020-06-17 00:29:53 +0000] [1] [INFO] Starting gunicorn 20.0.4\n",
      "[2020-06-17 00:29:53 +0000] [1] [INFO] Listening at: http://0.0.0.0:5000 (1)\n",
      "[2020-06-17 00:29:53 +0000] [1] [INFO] Using worker: sync\n",
      "[2020-06-17 00:29:53 +0000] [12] [INFO] Booting worker with pid: 12\n",
      "[2020-06-17 00:29:53 +0000] [13] [INFO] Booting worker with pid: 13\n",
      "[2020-06-17 00:29:53 +0000] [14] [INFO] Booting worker with pid: 14\n",
      "^C\n",
      "[2020-06-17 00:34:02 +0000] [1] [INFO] Handling signal: int\n",
      "[2020-06-17 00:34:02 +0000] [14] [INFO] Worker exiting (pid: 14)\n",
      "[2020-06-17 00:34:02 +0000] [13] [INFO] Worker exiting (pid: 13)\n",
      "[2020-06-17 00:34:02 +0000] [12] [INFO] Worker exiting (pid: 12)\n",
      "[00:29:53] WARNING: /workspace/src/objective/regression_obj.cu:152: reg:linear is now deprecated in favor of reg:squarederror.\n",
      "[00:29:53] WARNING: /workspace/src/objective/regression_obj.cu:152: reg:linear is now deprecated in favor of reg:squarederror.\n",
      "[00:29:53] WARNING: /workspace/src/objective/regression_obj.cu:152: reg:linear is now deprecated in favor of reg:squarederror.\n"
     ]
    }
   ],
   "source": [
    "!docker run -p 5000:5000 titanic-survival-predict-server"
   ]
  },
  {
   "cell_type": "markdown",
   "metadata": {},
   "source": [
    "# Deploy BentoService as REST API server to the cloud\n",
    "\n",
    "\n",
    "BentoML support deployment to multiply cloud provider services, such as AWS Lambda, AWS Sagemaker, Google Cloudrun and etc. You can find the full list and guide on the documentation site at https://docs.bentoml.org/en/latest/deployment/index.html\n",
    "\n",
    "Here is an example of deploying this saved BentoService to AWS Lambda. \n",
    "\n",
    "Before started:\n",
    "* Install AWS CLI https://docs.aws.amazon.com/cli/latest/userguide/cli-chap-install.html\n",
    "* Configure AWS credentials with `aws configure`\n",
    "* Install aws-sam-cli package: `pip install -U aws-sam-cli==0.31.1`\n",
    "* Ensure docker is available and running https://docs.docker.com/get-docker/"
   ]
  },
  {
   "cell_type": "code",
   "execution_count": 39,
   "metadata": {},
   "outputs": [
    {
     "name": "stdout",
     "output_type": "stream",
     "text": [
      "Deploying \"TitanicSurvivalPredictionXgBoost:20200616172725_4CD6B0\" to AWS Lambda /[2020-06-16 18:04:35,838] INFO - Building lambda project\n",
      "\b\\[2020-06-16 18:09:26,915] INFO - Packaging AWS Lambda project at /private/var/folders/7p/y_934t3s4yg8fx595vr28gym0000gn/T/bentoml-temp-8ddc4h4b ...\n",
      "\b/[2020-06-16 18:12:08,657] INFO - Deploying lambda project\n",
      "\b\\[2020-06-16 18:13:01,474] INFO - ApplyDeployment (xgb-titanic-survival-predict, namespace dev) succeeded\n",
      "\u001b[32mSuccessfully created AWS Lambda deployment xgb-titanic-survival-predict\u001b[0m\n",
      "\u001b[39m{\n",
      "  \"namespace\": \"dev\",\n",
      "  \"name\": \"xgb-titanic-survival-predict\",\n",
      "  \"spec\": {\n",
      "    \"bentoName\": \"TitanicSurvivalPredictionXgBoost\",\n",
      "    \"bentoVersion\": \"20200616172725_4CD6B0\",\n",
      "    \"operator\": \"AWS_LAMBDA\",\n",
      "    \"awsLambdaOperatorConfig\": {\n",
      "      \"region\": \"us-west-2\",\n",
      "      \"memorySize\": 1024,\n",
      "      \"timeout\": 3\n",
      "    }\n",
      "  },\n",
      "  \"state\": {\n",
      "    \"state\": \"RUNNING\",\n",
      "    \"infoJson\": {\n",
      "      \"endpoints\": [\n",
      "        \"https://o2quazkrli.execute-api.us-west-2.amazonaws.com/Prod/predict\"\n",
      "      ],\n",
      "      \"s3_bucket\": \"btml-dev-xgb-titanic-survival-predict-22ec76\"\n",
      "    },\n",
      "    \"timestamp\": \"2020-06-17T01:13:01.701051Z\"\n",
      "  },\n",
      "  \"createdAt\": \"2020-06-17T01:04:30.344490Z\",\n",
      "  \"lastUpdatedAt\": \"2020-06-17T01:04:30.344520Z\"\n",
      "}\u001b[0m\n"
     ]
    }
   ],
   "source": [
    "!bentoml lambda deploy xgb-titanic-survival-predict \\\n",
    "    -b TitanicSurvivalPredictionXgBoost:{bento_service.version}"
   ]
  },
  {
   "cell_type": "code",
   "execution_count": 40,
   "metadata": {},
   "outputs": [
    {
     "name": "stdout",
     "output_type": "stream",
     "text": [
      "\u001b[39m{\r\n",
      "  \"namespace\": \"dev\",\r\n",
      "  \"name\": \"xgb-titanic-survival-predict\",\r\n",
      "  \"spec\": {\r\n",
      "    \"bentoName\": \"TitanicSurvivalPredictionXgBoost\",\r\n",
      "    \"bentoVersion\": \"20200616172725_4CD6B0\",\r\n",
      "    \"operator\": \"AWS_LAMBDA\",\r\n",
      "    \"awsLambdaOperatorConfig\": {\r\n",
      "      \"region\": \"us-west-2\",\r\n",
      "      \"memorySize\": 1024,\r\n",
      "      \"timeout\": 3\r\n",
      "    }\r\n",
      "  },\r\n",
      "  \"state\": {\r\n",
      "    \"state\": \"RUNNING\",\r\n",
      "    \"infoJson\": {\r\n",
      "      \"endpoints\": [\r\n",
      "        \"https://o2quazkrli.execute-api.us-west-2.amazonaws.com/Prod/predict\"\r\n",
      "      ],\r\n",
      "      \"s3_bucket\": \"btml-dev-xgb-titanic-survival-predict-22ec76\"\r\n",
      "    },\r\n",
      "    \"timestamp\": \"2020-06-17T01:13:04.861472Z\"\r\n",
      "  },\r\n",
      "  \"createdAt\": \"2020-06-17T01:04:30.344490Z\",\r\n",
      "  \"lastUpdatedAt\": \"2020-06-17T01:04:30.344520Z\"\r\n",
      "}\u001b[0m\r\n"
     ]
    }
   ],
   "source": [
    "!bentoml lambda get xgb-titanic-survival-predict"
   ]
  },
  {
   "cell_type": "markdown",
   "metadata": {},
   "source": [
    "**To send request to your AWS Lambda deployment, grab the endpoint URL from the json output above:**"
   ]
  },
  {
   "cell_type": "code",
   "execution_count": null,
   "metadata": {},
   "outputs": [],
   "source": [
    "!curl -i \\\n",
    "    --header \"Content-Type: application/json\" \\\n",
    "    --request POST \\\n",
    "    --data '[{\"Pclass\": 1, \"Age\": 30, \"Fare\": 200, \"SibSp\": 1, \"Parch\": 0}]' \\\n",
    "    $(bentoml lambda get xgb-titanic-survival-predict | jq -r \".state.infoJson.endpoints[0]\")"
   ]
  },
  {
   "cell_type": "markdown",
   "metadata": {},
   "source": [
    "Use `bentoml lambda delete` to remove AWS Lambda deployment:"
   ]
  },
  {
   "cell_type": "code",
   "execution_count": 38,
   "metadata": {},
   "outputs": [
    {
     "name": "stdout",
     "output_type": "stream",
     "text": [
      "\u001b[32mSuccessfully deleted AWS Lambda deployment \"xgb-titanic-survival-predict\"\u001b[0m\r\n"
     ]
    }
   ],
   "source": [
    "!bentoml lambda delete xgb-titanic-survival-predict"
   ]
  },
  {
   "cell_type": "code",
   "execution_count": null,
   "metadata": {},
   "outputs": [],
   "source": []
  }
 ],
 "metadata": {
  "kernelspec": {
   "display_name": "Python 3",
   "language": "python",
   "name": "python3"
  },
  "language_info": {
   "codemirror_mode": {
    "name": "ipython",
    "version": 3
   },
   "file_extension": ".py",
   "mimetype": "text/x-python",
   "name": "python",
   "nbconvert_exporter": "python",
   "pygments_lexer": "ipython3",
   "version": "3.7.5"
  }
 },
 "nbformat": 4,
 "nbformat_minor": 2
}
